{
 "cells": [
  {
   "cell_type": "markdown",
   "id": "8f0829e6",
   "metadata": {},
   "source": [
    "Пришло время проанализировать результаты эксперимента, который мы провели вместе с командой дата сайентистов. Эксперимент проходил с 2022-03-15 по 2022-03-21 включительно. Для эксперимента были задействованы 2 и 1 группы. \n",
    "\n",
    "В группе 2 был использован один из новых алгоритмов рекомендации постов, группа 1 использовалась в качестве контроля. \n",
    "\n",
    "Основная гипотеза заключается в том, что новый алгоритм во 2-й группе приведет к увеличению CTR. \n",
    "\n",
    "Ваша задача — проанализировать данные АB-теста. \n",
    "\n",
    "Выбрать метод анализа и сравнить CTR в двух группах (мы разбирали t-тест, Пуассоновский бутстреп, тест Манна-Уитни, t-тест на сглаженном ctr (α=5) а также t-тест и тест Манна-Уитни поверх бакетного преобразования).\n",
    "\n",
    "Сравните данные этими тестами. А еще посмотрите на распределения глазами. Почему тесты сработали так как сработали? \n",
    "Опишите потенциальную ситуацию, когда такое изменение могло произойти. Тут нет идеального ответа, подумайте.\n",
    "Напишите рекомендацию, будем ли мы раскатывать новый алгоритм на всех новых пользователей или все-таки не стоит."
   ]
  },
  {
   "cell_type": "code",
   "execution_count": 2,
   "id": "8fca7a62",
   "metadata": {},
   "outputs": [],
   "source": [
    "import numpy as np\n",
    "import matplotlib.pyplot as plt\n",
    "import seaborn as sns\n",
    "import pandas as pd\n",
    "import pandahouse\n",
    "import scipy.stats as stats\n",
    "from read_db.CH import Getch"
   ]
  },
  {
   "cell_type": "markdown",
   "id": "b691da59",
   "metadata": {},
   "source": [
    "Я решила сравнить результаты двух методов: теста Манна-Уитни и теста Манна-Уитни поверх бакетного преобразования"
   ]
  },
  {
   "cell_type": "markdown",
   "id": "88151240",
   "metadata": {},
   "source": [
    "Тест Манна-Уитни без дополнительных преобразований:"
   ]
  },
  {
   "cell_type": "code",
   "execution_count": 3,
   "id": "b603aed7",
   "metadata": {},
   "outputs": [],
   "source": [
    "data = Getch('''\n",
    "SELECT exp_group,\n",
    "    user_id,\n",
    "    sum(action = 'like') as likes,\n",
    "    sum(action = 'view') as views,\n",
    "    likes/views as ctr\n",
    "FROM simulator_20220320.feed_actions\n",
    "WHERE toDate(time) between '2022-03-15' and '2022-03-21'\n",
    "    and exp_group in (1,2)\n",
    "GROUP BY exp_group, user_id''').df"
   ]
  },
  {
   "cell_type": "code",
   "execution_count": 4,
   "id": "012c184e",
   "metadata": {},
   "outputs": [
    {
     "data": {
      "text/plain": [
       "MannwhitneyuResult(statistic=56601260.5, pvalue=6.0376484617779035e-56)"
      ]
     },
     "execution_count": 4,
     "metadata": {},
     "output_type": "execute_result"
    }
   ],
   "source": [
    "stats.mannwhitneyu(data[data.exp_group == 1].ctr,\n",
    "                   data[data.exp_group == 2].ctr,\n",
    "                   alternative = 'two-sided')"
   ]
  },
  {
   "cell_type": "markdown",
   "id": "9ffc4d94",
   "metadata": {},
   "source": [
    "То же, но в Clickhouse:"
   ]
  },
  {
   "cell_type": "code",
   "execution_count": 5,
   "id": "718bc14e",
   "metadata": {},
   "outputs": [
    {
     "data": {
      "text/html": [
       "<div>\n",
       "<style scoped>\n",
       "    .dataframe tbody tr th:only-of-type {\n",
       "        vertical-align: middle;\n",
       "    }\n",
       "\n",
       "    .dataframe tbody tr th {\n",
       "        vertical-align: top;\n",
       "    }\n",
       "\n",
       "    .dataframe thead th {\n",
       "        text-align: right;\n",
       "    }\n",
       "</style>\n",
       "<table border=\"1\" class=\"dataframe\">\n",
       "  <thead>\n",
       "    <tr style=\"text-align: right;\">\n",
       "      <th></th>\n",
       "      <th>statistic</th>\n",
       "      <th>p_value</th>\n",
       "    </tr>\n",
       "  </thead>\n",
       "  <tbody>\n",
       "    <tr>\n",
       "      <th>0</th>\n",
       "      <td>56601260.5</td>\n",
       "      <td>1.655343e-13</td>\n",
       "    </tr>\n",
       "  </tbody>\n",
       "</table>\n",
       "</div>"
      ],
      "text/plain": [
       "    statistic       p_value\n",
       "0  56601260.5  1.655343e-13"
      ]
     },
     "execution_count": 5,
     "metadata": {},
     "output_type": "execute_result"
    }
   ],
   "source": [
    "mw1 = Getch('''\n",
    "WITH mannWhitneyUTest('two-sided')(ctr, exp_index) as mw\n",
    "\n",
    "select tupleElement(mw,1) as statistic,\n",
    "    tupleElement(mw,2) as p_value\n",
    "FROM (SELECT exp_group,\n",
    "        case when exp_group = 1 then 0 else 1 end as exp_index,\n",
    "        user_id,\n",
    "        sum(action = 'like') as likes,\n",
    "        sum(action = 'view') as views,\n",
    "        likes/views as ctr\n",
    "    FROM simulator_20220320.feed_actions\n",
    "    WHERE toDate(time) between '2022-03-15' and '2022-03-21'\n",
    "        and exp_group in (1,2)\n",
    "    GROUP BY exp_group, user_id)\n",
    "    ''').df\n",
    "mw1"
   ]
  },
  {
   "cell_type": "markdown",
   "id": "b23dd335",
   "metadata": {},
   "source": [
    "Тест Манна-Уитни поверх бакетного преобразования:"
   ]
  },
  {
   "cell_type": "code",
   "execution_count": 6,
   "id": "9e1ba46c",
   "metadata": {},
   "outputs": [],
   "source": [
    "mw2 = Getch('''\n",
    "SELECT exp_group, bucket,\n",
    "    sum(likes)/sum(views) as bucket_ctr\n",
    "FROM (SELECT exp_group,\n",
    "        xxHash64(user_id)%50 as bucket,\n",
    "        user_id,\n",
    "        sum(action = 'like') as likes,\n",
    "        sum(action = 'view') as views,\n",
    "        likes/views as ctr\n",
    "    FROM simulator_20220320.feed_actions\n",
    "    WHERE toDate(time) between '2022-03-15' and '2022-03-21'\n",
    "        and exp_group in (1,2)\n",
    "    GROUP BY exp_group, bucket, user_id)\n",
    "GROUP BY exp_group, bucket\n",
    "''').df"
   ]
  },
  {
   "cell_type": "code",
   "execution_count": 13,
   "id": "065a3f7b",
   "metadata": {},
   "outputs": [
    {
     "data": {
      "text/plain": [
       "MannwhitneyuResult(statistic=1995.0, pvalue=2.859963936492646e-07)"
      ]
     },
     "execution_count": 13,
     "metadata": {},
     "output_type": "execute_result"
    }
   ],
   "source": [
    "stats.mannwhitneyu(mw2[mw2.exp_group == 1].bucket_ctr,\n",
    "                   mw2[mw2.exp_group == 2].bucket_ctr,\n",
    "                   alternative = 'two-sided')"
   ]
  },
  {
   "cell_type": "markdown",
   "id": "41c2c5a7",
   "metadata": {},
   "source": [
    "Оба теста обнаруживают значимое различие между двумя группами. Посмотрим на граспределения:"
   ]
  },
  {
   "cell_type": "code",
   "execution_count": 7,
   "id": "e030f26a",
   "metadata": {},
   "outputs": [
    {
     "data": {
      "image/png": "[encoded data removed]",
      "text/plain": [
       "<Figure size 842.4x595.44 with 1 Axes>"
      ]
     },
     "metadata": {},
     "output_type": "display_data"
    }
   ],
   "source": [
    "sns.set(rc={'figure.figsize':(11.7,8.27)})\n",
    "groups = sns.histplot(data = data,\n",
    "                     x = 'ctr',\n",
    "                     hue = 'exp_group',\n",
    "                     palette = ['r', 'b'],\n",
    "                     alpha = 0.5,\n",
    "                     kde = False)\n"
   ]
  },
  {
   "cell_type": "markdown",
   "id": "39e564c3",
   "metadata": {},
   "source": [
    "К сожалению, значимость тестов не означает, что новый алогритм улучшил показатели.\n",
    "\n",
    "Распределение внутри группы 2 бимодально, пики лежат по разные стороны от пика контрольной группы, причем больший пик находится в стороне уменьшения CTR. Наши тесты уловили значимое отличие - но оно совсем не такое, какое мы хотели бы увидеть (сдвиг распределения CTR группы 2 вправо - в сторону увеличения показателя).\n",
    "\n",
    "Возможно, половине пользователей новый алгоритм \"понравился\", и они стали больше лайкать, половине - наоборот. Если это был алогритм рекомендации похожих на лайкнутые постов, возможно, у наших пользователей разные стратегии лайкания: одни действительно лайкают то, что им нравится (и на них алгоритм мог \"сработать\"), а другие ставят вынужденные лайки фотографиям детей знакомых или вообще участвовали в каком-то конкрусе и лайкали то, что им по жизни особенно-то и не нравится.\n",
    "\n",
    "Раскатывать алгоритм на всех новых пользователей точно не стоит."
   ]
  },
  {
   "cell_type": "markdown",
   "id": "d49fb2a5",
   "metadata": {},
   "source": [
    "На всякий случай посмотрим, какой резальтат дадут другие тесты:"
   ]
  },
  {
   "cell_type": "markdown",
   "id": "74b8c726",
   "metadata": {},
   "source": [
    "t-тест:"
   ]
  },
  {
   "cell_type": "code",
   "execution_count": 8,
   "id": "71c6cfc4",
   "metadata": {},
   "outputs": [
    {
     "data": {
      "text/plain": [
       "Ttest_indResult(statistic=0.7094392041270486, pvalue=0.4780623130874935)"
      ]
     },
     "execution_count": 8,
     "metadata": {},
     "output_type": "execute_result"
    }
   ],
   "source": [
    "stats.ttest_ind(data[data.exp_group == 1].ctr,\n",
    "                   data[data.exp_group == 2].ctr,\n",
    "                   equal_var=False)"
   ]
  },
  {
   "cell_type": "markdown",
   "id": "e799b0a3",
   "metadata": {},
   "source": [
    "t-тест на сглаженном CTR:"
   ]
  },
  {
   "cell_type": "code",
   "execution_count": 9,
   "id": "1a3c1035",
   "metadata": {},
   "outputs": [
    {
     "data": {
      "text/plain": [
       "Ttest_indResult(statistic=2.2841320431616983, pvalue=0.0223769815558559)"
      ]
     },
     "execution_count": 9,
     "metadata": {},
     "output_type": "execute_result"
    }
   ],
   "source": [
    "def get_smoothed_ctr(user_likes, user_views, global_ctr, alpha=5):\n",
    "    smoothed_ctr = (user_likes + alpha * global_ctr)/(user_views + alpha)\n",
    "    return smoothed_ctr\n",
    "\n",
    "global_ctr_1 = data[data.exp_group == 1].likes.sum()/data[data.exp_group == 1].views.sum()\n",
    "global_ctr_2 = data[data.exp_group == 2].likes.sum()/data[data.exp_group == 2].views.sum()\n",
    "\n",
    "group1 = data[data.exp_group == 1].copy()\n",
    "group1['smoothed_ctr'] = data.apply(\n",
    "    lambda x: get_smoothed_ctr(x['likes'], x['views'], global_ctr_1, 5), axis=1)\n",
    "\n",
    "group2 = data[data.exp_group == 2].copy()\n",
    "group2['smoothed_ctr'] = data.apply(\n",
    "    lambda x: get_smoothed_ctr(x['likes'], x['views'], global_ctr_2, 5), axis=1)\n",
    "\n",
    "stats.ttest_ind(group1.smoothed_ctr,\n",
    "                group2.smoothed_ctr,\n",
    "                equal_var=False)"
   ]
  },
  {
   "cell_type": "code",
   "execution_count": null,
   "id": "d2c000d6",
   "metadata": {},
   "outputs": [],
   "source": [
    "t-тест поверх бакетного преобразования:"
   ]
  },
  {
   "cell_type": "code",
   "execution_count": 16,
   "id": "65eb4dd3",
   "metadata": {},
   "outputs": [
    {
     "data": {
      "text/plain": [
       "Ttest_indResult(statistic=5.668234732053979, pvalue=3.4455951649945907e-07)"
      ]
     },
     "execution_count": 16,
     "metadata": {},
     "output_type": "execute_result"
    }
   ],
   "source": [
    "stats.ttest_ind(mw2[mw2.exp_group == 1].bucket_ctr,\n",
    "                   mw2[mw2.exp_group == 2].bucket_ctr,\n",
    "                   equal_var=False)"
   ]
  },
  {
   "cell_type": "markdown",
   "id": "e9e17bd1",
   "metadata": {},
   "source": [
    "Обычный t-тест показал, что значимых различий между группами нет. Вероятно, потому, что пики CTR второй группы лежат примерно так, что средний CTR не сильно отличается от среднего CTR первой группы. t-тест на сглаженном CTR и t-тест поверх бакетного преобразования различие уже выявили, причем последний оказался чувствительнее и нашел более значимое различие."
   ]
  },
  {
   "cell_type": "markdown",
   "id": "b2327f56",
   "metadata": {},
   "source": [
    "t-тест поверх Пуассоновского бустрепа:"
   ]
  },
  {
   "cell_type": "code",
   "execution_count": 20,
   "id": "1d2e7f1c",
   "metadata": {},
   "outputs": [
    {
     "data": {
      "text/plain": [
       "Ttest_indResult(statistic=268.2222596719344, pvalue=0.0)"
      ]
     },
     "execution_count": 20,
     "metadata": {},
     "output_type": "execute_result"
    }
   ],
   "source": [
    "def bootstrap(likes1, views1, likes2, views2, n_bootstrap=2000):\n",
    "    \n",
    "    poisson_bootstraps1 = stats.poisson(1).rvs(\n",
    "       (2000, len(likes1))).astype(np.int64)\n",
    "    \n",
    "    poisson_bootstraps2 = stats.poisson(1).rvs(\n",
    "           (2000, len(likes2))).astype(np.int64)\n",
    "    \n",
    "    globalCTR1 = (poisson_bootstraps1*likes1).sum(axis=1)/(poisson_bootstraps1*views1).sum(axis=1)\n",
    "    globalCTR2 = (poisson_bootstraps2*likes2).sum(axis=1)/(poisson_bootstraps2*views2).sum(axis=1)\n",
    "    \n",
    "    return globalCTR1, globalCTR2\n",
    "\n",
    "likes1 = data[data.exp_group == 1].likes.to_numpy()\n",
    "views1 = data[data.exp_group == 1].views.to_numpy()\n",
    "likes2 = data[data.exp_group == 2].likes.to_numpy()\n",
    "views2 = data[data.exp_group == 2].views.to_numpy()\n",
    "\n",
    "ctr1, ctr2 = bootstrap(likes1, views1, likes2, views2)\n",
    "stats.ttest_ind(ctr1,\n",
    "                ctr2,\n",
    "                equal_var=False)"
   ]
  },
  {
   "cell_type": "code",
   "execution_count": 21,
   "id": "6ab370b2",
   "metadata": {},
   "outputs": [
    {
     "data": {
      "text/plain": [
       "<AxesSubplot:ylabel='Count'>"
      ]
     },
     "execution_count": 21,
     "metadata": {},
     "output_type": "execute_result"
    },
    {
     "data": {
      "image/png": "[encoded data removed]",
      "text/plain": [
       "<Figure size 842.4x595.44 with 1 Axes>"
      ]
     },
     "metadata": {},
     "output_type": "display_data"
    }
   ],
   "source": [
    "sns.histplot(ctr1)\n",
    "sns.histplot(ctr2)"
   ]
  },
  {
   "cell_type": "markdown",
   "id": "71675614",
   "metadata": {},
   "source": [
    "Пуассановский бутстреп выявил значимое различие, причем распределения CTR 'разъехались' настолько, что p-value стал равен 0."
   ]
  },
  {
   "cell_type": "code",
   "execution_count": null,
   "id": "2b16a085",
   "metadata": {},
   "outputs": [],
   "source": []
  }
 ],
 "metadata": {
  "kernelspec": {
   "display_name": "Python 3 (ipykernel)",
   "language": "python",
   "name": "python3"
  },
  "language_info": {
   "codemirror_mode": {
    "name": "ipython",
    "version": 3
   },
   "file_extension": ".py",
   "mimetype": "text/x-python",
   "name": "python",
   "nbconvert_exporter": "python",
   "pygments_lexer": "ipython3",
   "version": "3.8.10"
  }
 },
 "nbformat": 4,
 "nbformat_minor": 5
}
