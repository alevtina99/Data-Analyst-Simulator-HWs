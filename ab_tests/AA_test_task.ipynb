{
 "cells": [
  {
   "cell_type": "markdown",
   "id": "e750e928",
   "metadata": {},
   "source": [
    "У нас есть данные АА-теста с '2022-03-08' по '2022-03-14'. Вам нужно сделать симуляцию, как будто мы провели 10000 АА-тестов. На каждой итерации вам нужно сформировать подвыборки с повторением в 500 юзеров из 2 и 3 экспериментальной группы. Провести сравнение этих подвыборок t-testом.\n",
    "\n",
    "1. Построить гистограмму распределения получившихся 10000 p-values.\n",
    "\n",
    "2. Посчитать, какой процент p values оказался меньше либо равен 0.05\n",
    "\n",
    "3. Написать вывод по проведенному АА-тесту, корректно ли работает наша система сплитования."
   ]
  },
  {
   "cell_type": "code",
   "execution_count": 2,
   "id": "749eb1a1",
   "metadata": {},
   "outputs": [],
   "source": [
    "import numpy as np\n",
    "import matplotlib.pyplot as plt\n",
    "import seaborn as sns\n",
    "import pandas as pd\n",
    "import pandahouse\n",
    "import scipy.stats as stats\n",
    "from read_db.CH import Getch"
   ]
  },
  {
   "cell_type": "code",
   "execution_count": 3,
   "id": "153281af",
   "metadata": {},
   "outputs": [],
   "source": [
    "data = Getch('''\n",
    "SELECT exp_group,\n",
    "    user_id,\n",
    "    sum(action = 'like') as likes,\n",
    "    sum(action = 'view') as views,\n",
    "    likes/views as ctr\n",
    "FROM simulator_20220320.feed_actions\n",
    "WHERE toDate(time) between '2022-03-08' and '2022-03-14'\n",
    "    and exp_group in (2,3)\n",
    "GROUP BY exp_group, user_id''').df"
   ]
  },
  {
   "cell_type": "code",
   "execution_count": 4,
   "id": "cc90f0c1",
   "metadata": {},
   "outputs": [],
   "source": [
    "def bootstrap(df1, df2, n=500):\n",
    "    sample1 = df1.sample(n, replace=True)\n",
    "    sample2 = df2.sample(n, replace=True)\n",
    "    pval = stats.ttest_ind(sample1.ctr, sample2.ctr, equal_var=False)[-1]\n",
    "    \n",
    "    return pval"
   ]
  },
  {
   "cell_type": "code",
   "execution_count": 5,
   "id": "97dd8075",
   "metadata": {},
   "outputs": [],
   "source": [
    "df1 = data[data.exp_group == 2]\n",
    "df2 = data[data.exp_group == 3]"
   ]
  },
  {
   "cell_type": "code",
   "execution_count": 6,
   "id": "2f794b61",
   "metadata": {},
   "outputs": [],
   "source": [
    "pvl = []\n",
    "for _ in range(10000):\n",
    "    pvl.append(bootstrap(df1, df2))"
   ]
  },
  {
   "cell_type": "markdown",
   "id": "0d727c55",
   "metadata": {},
   "source": [
    "Гистограмма распределения p-values:"
   ]
  },
  {
   "cell_type": "code",
   "execution_count": 7,
   "id": "d30e2dc9",
   "metadata": {},
   "outputs": [
    {
     "data": {
      "text/plain": [
       "<AxesSubplot:ylabel='Count'>"
      ]
     },
     "execution_count": 7,
     "metadata": {},
     "output_type": "execute_result"
    },
    {
     "data": {
      "image/png": "[encoded data removed]",
      "text/plain": [
       "<Figure size 432x288 with 1 Axes>"
      ]
     },
     "metadata": {
      "needs_background": "light"
     },
     "output_type": "display_data"
    }
   ],
   "source": [
    "sns.histplot(pvl)"
   ]
  },
  {
   "cell_type": "markdown",
   "id": "1b144a20",
   "metadata": {},
   "source": [
    "Процент p-values <= 0.05:"
   ]
  },
  {
   "cell_type": "code",
   "execution_count": 8,
   "id": "02e54efe",
   "metadata": {},
   "outputs": [
    {
     "name": "stdout",
     "output_type": "stream",
     "text": [
      "Процент p-values <= 0.05 = 5.54%\n"
     ]
    }
   ],
   "source": [
    "pvl1 = np.asarray(pvl)\n",
    "\n",
    "cond = pvl1 <= 0.05\n",
    "total = cond.sum()\n",
    "print(f'Процент p-values <= 0.05 = {total / 10000 * 100}%')"
   ]
  },
  {
   "cell_type": "markdown",
   "id": "f318faaa",
   "metadata": {},
   "source": [
    "Вывод:\n",
    "Система сплитования работает корректно. p-values распределены равномерно от 0 до 1, процент ложноположительного срабатывания t-теста (p-value меньше 0.05) около 5% - нашего порогового уровня значимости."
   ]
  },
  {
   "cell_type": "markdown",
   "id": "d5ccce95",
   "metadata": {},
   "source": [
    "На всякий случай проверим, как будет выглядеть картина, если мы \"скормим\" бутстрепу одну и ту же выборку под видом двух:"
   ]
  },
  {
   "cell_type": "code",
   "execution_count": 10,
   "id": "94af6c55",
   "metadata": {},
   "outputs": [
    {
     "name": "stdout",
     "output_type": "stream",
     "text": [
      "Процент p-values <= 0.05 = 5.54%\n"
     ]
    },
    {
     "data": {
      "image/png": "[encoded data removed]",
      "text/plain": [
       "<Figure size 432x288 with 1 Axes>"
      ]
     },
     "metadata": {
      "needs_background": "light"
     },
     "output_type": "display_data"
    }
   ],
   "source": [
    "pvl2 = []\n",
    "for _ in range(10000):\n",
    "    pvl2.append(bootstrap(df1, df1))\n",
    "\n",
    "pvl2 = np.asarray(pvl2)\n",
    "sns.histplot(pvl2)\n",
    "\n",
    "cond1 = pvl2 <= 0.05\n",
    "total1 = cond1.sum()\n",
    "print(f'Процент p-values <= 0.05 = {total1 / 10000 * 100}%')"
   ]
  },
  {
   "cell_type": "code",
   "execution_count": null,
   "id": "1c2e9c2d",
   "metadata": {},
   "outputs": [],
   "source": [
    "Выглядит так же, все правильно"
   ]
  },
  {
   "cell_type": "code",
   "execution_count": null,
   "id": "2cfae63f",
   "metadata": {},
   "outputs": [],
   "source": []
  }
 ],
 "metadata": {
  "kernelspec": {
   "display_name": "Python 3 (ipykernel)",
   "language": "python",
   "name": "python3"
  },
  "language_info": {
   "codemirror_mode": {
    "name": "ipython",
    "version": 3
   },
   "file_extension": ".py",
   "mimetype": "text/x-python",
   "name": "python",
   "nbconvert_exporter": "python",
   "pygments_lexer": "ipython3",
   "version": "3.8.10"
  }
 },
 "nbformat": 4,
 "nbformat_minor": 5
}
